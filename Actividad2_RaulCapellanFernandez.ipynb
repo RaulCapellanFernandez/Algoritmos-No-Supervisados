{
 "cells": [
  {
   "cell_type": "markdown",
   "metadata": {},
   "source": [
    "# Actividad 2: Validación y evaluación en regresión y clasificación"
   ]
  },
  {
   "cell_type": "markdown",
   "metadata": {},
   "source": [
    "Esta segunda actividad consiste en demostrar los conocimientos sobre validación y evaluación de algoritmos en aprendizaje supervisado, haciendo uso de los conceptos aprendidos en la asignatura."
   ]
  },
  {
   "cell_type": "markdown",
   "metadata": {},
   "source": [
    "Información general:\n",
    "* La entrega consistirá en un archivo .ipynb siguiendo las instrucciones de este notebook.\n",
    "* 60% de la nota final."
   ]
  },
  {
   "cell_type": "markdown",
   "metadata": {},
   "source": [
    "Instrucciones para cumplimentar el notebook:\n",
    "* Descarga este notebook, que servirá como base para la entrega.\n",
    "* **No hay que modificar las celdas** que vienen en la hoja de actividades, **a no ser que se especifique claramente en la celda**. Para contestar a las preguntas, por favor añade celdas inmediatamente después de cada pregunta.\n",
    "* Para la nota se valorará tanto la consecución de la respuesta adecuada como el estilo y adecuación del código fuente (si procede responder con código), así como la inclusión de comentarios apropiados.\n",
    "* **No está permitido compartir los resultados de una actividad** en el foro o con cualquier compañero, **salvo indicación expresa en el enunciado de la actividad**. Hacerlo puede suponer suspender la asignatura y enfrentarse a medidas disciplinarias."
   ]
  },
  {
   "cell_type": "markdown",
   "metadata": {},
   "source": [
    "Información útil:\n",
    "* Para crear celdas en el notebook, usa el botón \"+\" del menú situado en la esquina superior izquierda.\n",
    "* Para ejecutar una celda (texto o código), pulsa el botón \"Run\" del menú situado en la esquina superior izquierda.\n",
    "* Recuerda cambiar el tipo de celda de forma adecuada con el menú superior.\n",
    "* Más información sobre notebooks en la documentación oficial: https://jupyter.readthedocs.io/en/latest/"
   ]
  },
  {
   "cell_type": "code",
   "execution_count": 1,
   "metadata": {},
   "outputs": [],
   "source": [
    "#Importamos las diferentes librerías\n",
    "#General\n",
    "import numpy as np\n",
    "import sys\n",
    "\n",
    "#Para metricas algoritmos y datasets\n",
    "from sklearn import datasets,metrics,linear_model\n",
    "from sklearn.dummy import DummyRegressor,DummyClassifier\n",
    "from sklearn.neighbors import KNeighborsRegressor\n",
    "from sklearn.linear_model import LogisticRegression\n",
    "from sklearn.tree import DecisionTreeClassifier\n",
    "\n",
    "from sklearn import preprocessing\n",
    "from sklearn.model_selection import train_test_split\n",
    "from sklearn.model_selection import cross_val_predict\n",
    "from sklearn.model_selection import KFold\n",
    "\n",
    "#Para crear dataframes y crear graficas\n",
    "import pandas as pd\n",
    "import matplotlib.pyplot as plt\n",
    "%matplotlib inline\n",
    "import seaborn as sns\n",
    "\n",
    "import warnings\n",
    "warnings.filterwarnings('ignore')"
   ]
  },
  {
   "cell_type": "code",
   "execution_count": 2,
   "metadata": {},
   "outputs": [],
   "source": [
    "#Cargamos las diferentes datasets que vamos a necesitar\n",
    "dataset = {\n",
    "    'Iris': datasets.load_iris(),\n",
    "    'Boston': datasets.load_boston(),\n",
    "    'Cancer': datasets.load_breast_cancer(),\n",
    "    'Diabetes': datasets.load_diabetes(),\n",
    "    'Casas': datasets.fetch_california_housing(),\n",
    "    'Caras': datasets.fetch_lfw_pairs()\n",
    "}"
   ]
  },
  {
   "cell_type": "code",
   "execution_count": 3,
   "metadata": {},
   "outputs": [],
   "source": [
    "#Cargamoos las metricas que vamos a necesitar\n",
    "metricas = {\n",
    "    'MAE':  metrics.mean_absolute_error,\n",
    "    'RMSE': metrics.mean_squared_error,\n",
    "    'MAPE': lambda y, y_pred:\n",
    "          np.mean(np.abs((y - y_pred) / y)) * 100,\n",
    "    #'Accuracy': metrics.accuracy_score\n",
    "}"
   ]
  },
  {
   "cell_type": "code",
   "execution_count": 4,
   "metadata": {},
   "outputs": [],
   "source": [
    "#Cargamos los algoritmos que vamos a usar necesitar\n",
    "algoritmos = {\n",
    "    'OLS':linear_model.LinearRegression(),\n",
    "    'KNN': KNeighborsRegressor(n_neighbors = 10),\n",
    "}"
   ]
  },
  {
   "cell_type": "markdown",
   "metadata": {},
   "source": [
    "### Ejercicio 1 (1.5 puntos)"
   ]
  },
  {
   "cell_type": "markdown",
   "metadata": {},
   "source": [
    "Cree un programa que permita visualizar una gráfica en la que se muestren los valores de error MAE del regresor DummyRegressor en función del porcentaje de split training/test en validación Hold-out (pruebe desde un 50%-50% hasta un 95%-5%, de 5% en 5%) para un dataset de regresión (el que se desee)."
   ]
  },
  {
   "cell_type": "code",
   "execution_count": 5,
   "metadata": {},
   "outputs": [
    {
     "name": "stdout",
     "output_type": "stream",
     "text": [
      "MAE para cada porcentaje de test ->  [0.7242666666666667, 0.7263271162123386, 0.7055555555555556, 0.6866368410815016, 0.7352380952380951, 0.7203947368421053, 0.7027777777777777, 0.6162273194111606, 0.6133333333333333, 0.5]\n"
     ]
    },
    {
     "data": {
      "image/png": "[encoded data removed]",
      "text/plain": [
       "<Figure size 360x360 with 1 Axes>"
      ]
     },
     "metadata": {
      "needs_background": "light"
     },
     "output_type": "display_data"
    }
   ],
   "source": [
    "results = []\n",
    "porcentajesTest=[0.50,0.45,0.40,0.35,0.30,0.25,0.20,0.15,0.10,0.05]\n",
    "\n",
    "#Algoritmo de apredizaje -> DummyRegressor\n",
    "reg = DummyRegressor()\n",
    "\n",
    "#Aplica el algoritmo previamente especificado.\n",
    "for pTest in porcentajesTest:\n",
    "    #Aplica la diferenciacion de test y entrenamiento para los intervalos dados\n",
    "    X_train, X_test, y_train, y_test = train_test_split(dataset['Iris'].data, dataset['Iris'].target, test_size=pTest, random_state=42)\n",
    "    #Entrena y evalua el algoritmo previamente definido\n",
    "    reg.fit(X_train,y_train)\n",
    "    y_pred = reg.predict(X_test)\n",
    "    #Introduce en una lista el resultade de MAE\n",
    "    results.append(metricas['MAE'](y_test, y_pred))\n",
    "\n",
    "imp = pd.DataFrame({'MAE':results, 'Valores':porcentajesTest})\n",
    "\n",
    "plt.figure(figsize=(5,5))\n",
    "sns.barplot(x = 'Valores', y = 'MAE', data = imp).set_title('MAE -> Dummy Regression')\n",
    "print('MAE para cada porcentaje de test -> ',results)"
   ]
  },
  {
   "cell_type": "markdown",
   "metadata": {},
   "source": [
    "### Ejercicio 2 (1.5 puntos)"
   ]
  },
  {
   "cell_type": "markdown",
   "metadata": {},
   "source": [
    "Realizar el mismo procedimiento que el descrito en el Ejercicio 1, pero para clasificación con el clasificador DummyClassifier (visualizar gráfica de valores de exactitud, en lugar de MAE)."
   ]
  },
  {
   "cell_type": "code",
   "execution_count": 6,
   "metadata": {},
   "outputs": [
    {
     "name": "stdout",
     "output_type": "stream",
     "text": [
      "Accuracy para cada porcentaje de test ->  [0.656140350877193, 0.6498054474708171, 0.6491228070175439, 0.645, 0.631578947368421, 0.6223776223776224, 0.6228070175438597, 0.627906976744186, 0.7017543859649122, 0.6206896551724138]\n"
     ]
    },
    {
     "data": {
      "image/png": "[encoded data removed]",
      "text/plain": [
       "<Figure size 360x360 with 1 Axes>"
      ]
     },
     "metadata": {
      "needs_background": "light"
     },
     "output_type": "display_data"
    }
   ],
   "source": [
    "results = []\n",
    "porcentajesTest=[0.50,0.45,0.40,0.35,0.30,0.25,0.20,0.15,0.10,0.05]\n",
    "\n",
    "#Algoritmo de apredizaje -> DummyRegressor\n",
    "clf = DummyClassifier(strategy=\"most_frequent\")\n",
    "\n",
    "#Aplica el algoritmo previamente especificado.\n",
    "for pTest in porcentajesTest:\n",
    "    #Aplica la diferenciacion de test y entrenamiento para los intervalos dados\n",
    "    X_train, X_test, y_train, y_test = train_test_split(dataset['Cancer'].data, dataset['Cancer'].target, test_size=pTest, random_state=42)\n",
    "    #Entrena y evalua el algoritmo previamente definido\n",
    "    clf.fit(X_train,y_train)\n",
    "    y_pred = clf.predict(X_test)\n",
    "    #Introduce en una lista el resultade de MAE\n",
    "    results.append(metrics.accuracy_score(y_test, y_pred))\n",
    "\n",
    "imp = pd.DataFrame({'Accuracy':results, 'Valores':porcentajesTest})\n",
    "\n",
    "plt.figure(figsize=(5,5))\n",
    "sns.barplot(x = 'Valores', y = 'Accuracy', data = imp).set_title('Accuracy -> Dummy Classifier')\n",
    "print('Accuracy para cada porcentaje de test -> ',results)"
   ]
  },
  {
   "cell_type": "markdown",
   "metadata": {},
   "source": [
    "### Ejercicio 3 (2 puntos)"
   ]
  },
  {
   "cell_type": "markdown",
   "metadata": {},
   "source": [
    "Cree un programa, con comentarios que aclaren el código, donde se computen las métricas MAE, RMSE y MAPE usando los regresores OLS y KNN en validación cruzada con 10 bolsas. Muestre los resultados de forma comparativa para al menos tres datasets (los que se deseen)."
   ]
  },
  {
   "cell_type": "code",
   "execution_count": 7,
   "metadata": {},
   "outputs": [],
   "source": [
    "#Definimos los problemas que debemos solucionar\n",
    "problemas = {\n",
    "    'BostonOLS': (algoritmos['OLS'], dataset['Boston']),\n",
    "    'BostonKNN': (algoritmos['KNN'], dataset['Boston']),\n",
    "    'DiabetesOLS': (algoritmos['OLS'], dataset['Diabetes']),\n",
    "    'DiabetesKNN': (algoritmos['KNN'], dataset['Diabetes']),\n",
    "    'CasasKNN': (algoritmos['KNN'], dataset['Casas']),\n",
    "    'CasasOLS': (algoritmos['OLS'], dataset['Casas']),\n",
    "}"
   ]
  },
  {
   "cell_type": "code",
   "execution_count": 8,
   "metadata": {},
   "outputs": [],
   "source": [
    "#Funcion que calcula las predicciones en funcion del crossValidation para los diferentes problemas planteados\n",
    "#Esta funcion se reutiliza en todo el script\n",
    "def calculaPredicciones():\n",
    "    y_pred={}\n",
    "    for nombre, valores in problemas.items():\n",
    "        y_pred[nombre] = cross_val_predict(valores[0], valores[1].data, valores[1].target, cv=KFold(n_splits=10,random_state=42,shuffle=True))\n",
    "    return  y_pred\n",
    "    \n",
    "#Definición de la función de evaluación que se empleará a partir de ahora para calcular las métricas de cada problema.\n",
    "#Esta funcion se reutiliza en todo el script\n",
    "def evaluacion(y_true, y_pred, metricas):\n",
    "    result = {}\n",
    "    for nombre, funcion in metricas.items():\n",
    "        result[nombre] = funcion(y_true, y_pred)\n",
    "    return result"
   ]
  },
  {
   "cell_type": "code",
   "execution_count": 9,
   "metadata": {},
   "outputs": [
    {
     "data": {
      "text/html": [
       "<div>\n",
       "<style scoped>\n",
       "    .dataframe tbody tr th:only-of-type {\n",
       "        vertical-align: middle;\n",
       "    }\n",
       "\n",
       "    .dataframe tbody tr th {\n",
       "        vertical-align: top;\n",
       "    }\n",
       "\n",
       "    .dataframe thead th {\n",
       "        text-align: right;\n",
       "    }\n",
       "</style>\n",
       "<table border=\"1\" class=\"dataframe\">\n",
       "  <thead>\n",
       "    <tr style=\"text-align: right;\">\n",
       "      <th></th>\n",
       "      <th>BostonOLS</th>\n",
       "      <th>BostonKNN</th>\n",
       "      <th>DiabetesOLS</th>\n",
       "      <th>DiabetesKNN</th>\n",
       "      <th>CasasKNN</th>\n",
       "      <th>CasasOLS</th>\n",
       "    </tr>\n",
       "  </thead>\n",
       "  <tbody>\n",
       "    <tr>\n",
       "      <th>MAE</th>\n",
       "      <td>3.376471</td>\n",
       "      <td>4.661423</td>\n",
       "      <td>44.473175</td>\n",
       "      <td>46.545249</td>\n",
       "      <td>0.811329</td>\n",
       "      <td>0.532031</td>\n",
       "    </tr>\n",
       "    <tr>\n",
       "      <th>RMSE</th>\n",
       "      <td>23.369919</td>\n",
       "      <td>44.194913</td>\n",
       "      <td>3022.915635</td>\n",
       "      <td>3395.342036</td>\n",
       "      <td>1.101792</td>\n",
       "      <td>0.532527</td>\n",
       "    </tr>\n",
       "    <tr>\n",
       "      <th>MAPE</th>\n",
       "      <td>17.016846</td>\n",
       "      <td>22.316646</td>\n",
       "      <td>39.786182</td>\n",
       "      <td>40.893173</td>\n",
       "      <td>52.781138</td>\n",
       "      <td>31.782659</td>\n",
       "    </tr>\n",
       "  </tbody>\n",
       "</table>\n",
       "</div>"
      ],
      "text/plain": [
       "      BostonOLS  BostonKNN  DiabetesOLS  DiabetesKNN   CasasKNN   CasasOLS\n",
       "MAE    3.376471   4.661423    44.473175    46.545249   0.811329   0.532031\n",
       "RMSE  23.369919  44.194913  3022.915635  3395.342036   1.101792   0.532527\n",
       "MAPE  17.016846  22.316646    39.786182    40.893173  52.781138  31.782659"
      ]
     },
     "execution_count": 9,
     "metadata": {},
     "output_type": "execute_result"
    }
   ],
   "source": [
    "#Se calculan las predicciones para los problemas planteados para los diferentes datasets\n",
    "y_pred = calculaPredicciones()\n",
    "\n",
    "#Se evaluan las metricas planteadas en el diccionario\n",
    "evaluation={}\n",
    "for nombre, exp in problemas.items():\n",
    "       evaluation[nombre] = evaluacion(exp[1].target, y_pred[nombre], metricas)\n",
    "\n",
    "#Se introducen las metricas en un dataframe y se imprime\n",
    "evaluacion_resultados=pd.DataFrame(evaluation)\n",
    "evaluacion_resultados"
   ]
  },
  {
   "cell_type": "markdown",
   "metadata": {},
   "source": [
    "### Ejercicio 4 (3 puntos)"
   ]
  },
  {
   "cell_type": "markdown",
   "metadata": {},
   "source": [
    "Analice las diferencias entre los errores producidos por el algoritmo KNN en función de estos aspectos: a) número de vecinos más cercanos; b) función de distancia; c) con/sin normalización previa de atributos. Para ello, pruebe al menos dos configuraciones distintas de cada aspecto. Use tres datasets diferentes en validación leave-one-out en la comparativa de resultados."
   ]
  },
  {
   "cell_type": "markdown",
   "metadata": {},
   "source": [
    "##### a) Número de vecinos más cercanos: \n",
    "- Con 2 vecinos más cercanos\n",
    "- Con 4 vecinos más cercanos\n",
    "- Con 8 vecinos más cercanos\n",
    "- Con 12 vecinos más cercanos"
   ]
  },
  {
   "cell_type": "code",
   "execution_count": 10,
   "metadata": {},
   "outputs": [],
   "source": [
    "algoritmos = {\n",
    "  'KNN_N2': KNeighborsRegressor(n_neighbors = 2),\n",
    "  'KNN_N4': KNeighborsRegressor(n_neighbors = 4),\n",
    "  'KNN_N8': KNeighborsRegressor(n_neighbors = 8),\n",
    "  'KNN_N12': KNeighborsRegressor(n_neighbors = 12)\n",
    "}"
   ]
  },
  {
   "cell_type": "code",
   "execution_count": 11,
   "metadata": {},
   "outputs": [],
   "source": [
    "problemas = {\n",
    "  'KNN2Boston': (algoritmos['KNN_N2'], dataset['Boston']),\n",
    "  'KNN4Boston': (algoritmos['KNN_N4'], dataset['Boston']),\n",
    "  'KNN8Boston': (algoritmos['KNN_N8'], dataset['Boston']),\n",
    "  'KNN12Boston': (algoritmos['KNN_N12'], dataset['Boston']),\n",
    "  'KNN2Diabetes': (algoritmos['KNN_N2'], dataset['Diabetes']),\n",
    "  'KNN4Diabetes': (algoritmos['KNN_N4'], dataset['Diabetes']),\n",
    "  'KNN8Diabetes': (algoritmos['KNN_N8'], dataset['Diabetes']),\n",
    "  'KNN12Diabetes': (algoritmos['KNN_N12'], dataset['Diabetes']),\n",
    "  'KNN2Casas': (algoritmos['KNN_N2'], dataset['Casas']),\n",
    "  'KNN4Casas': (algoritmos['KNN_N4'], dataset['Casas']),\n",
    "  'KNN8Casas': (algoritmos['KNN_N8'], dataset['Casas']),\n",
    "  'KNN12Casas': (algoritmos['KNN_N12'], dataset['Casas'])  \n",
    "}"
   ]
  },
  {
   "cell_type": "code",
   "execution_count": 12,
   "metadata": {},
   "outputs": [
    {
     "data": {
      "text/html": [
       "<div>\n",
       "<style scoped>\n",
       "    .dataframe tbody tr th:only-of-type {\n",
       "        vertical-align: middle;\n",
       "    }\n",
       "\n",
       "    .dataframe tbody tr th {\n",
       "        vertical-align: top;\n",
       "    }\n",
       "\n",
       "    .dataframe thead th {\n",
       "        text-align: right;\n",
       "    }\n",
       "</style>\n",
       "<table border=\"1\" class=\"dataframe\">\n",
       "  <thead>\n",
       "    <tr style=\"text-align: right;\">\n",
       "      <th></th>\n",
       "      <th>KNN2Boston</th>\n",
       "      <th>KNN4Boston</th>\n",
       "      <th>KNN8Boston</th>\n",
       "      <th>KNN12Boston</th>\n",
       "      <th>KNN2Diabetes</th>\n",
       "      <th>KNN4Diabetes</th>\n",
       "      <th>KNN8Diabetes</th>\n",
       "      <th>KNN12Diabetes</th>\n",
       "      <th>KNN2Casas</th>\n",
       "      <th>KNN4Casas</th>\n",
       "      <th>KNN8Casas</th>\n",
       "      <th>KNN12Casas</th>\n",
       "    </tr>\n",
       "  </thead>\n",
       "  <tbody>\n",
       "    <tr>\n",
       "      <th>MAE</th>\n",
       "      <td>4.517589</td>\n",
       "      <td>4.340366</td>\n",
       "      <td>4.492762</td>\n",
       "      <td>4.645669</td>\n",
       "      <td>50.361991</td>\n",
       "      <td>48.004525</td>\n",
       "      <td>47.107466</td>\n",
       "      <td>46.469268</td>\n",
       "      <td>0.845560</td>\n",
       "      <td>0.809299</td>\n",
       "      <td>0.808708</td>\n",
       "      <td>0.814136</td>\n",
       "    </tr>\n",
       "    <tr>\n",
       "      <th>RMSE</th>\n",
       "      <td>44.035158</td>\n",
       "      <td>39.389235</td>\n",
       "      <td>41.325336</td>\n",
       "      <td>45.118561</td>\n",
       "      <td>4342.084842</td>\n",
       "      <td>3768.072115</td>\n",
       "      <td>3479.413744</td>\n",
       "      <td>3397.601009</td>\n",
       "      <td>1.242360</td>\n",
       "      <td>1.118587</td>\n",
       "      <td>1.098199</td>\n",
       "      <td>1.107052</td>\n",
       "    </tr>\n",
       "    <tr>\n",
       "      <th>MAPE</th>\n",
       "      <td>21.053634</td>\n",
       "      <td>20.194596</td>\n",
       "      <td>21.404206</td>\n",
       "      <td>22.084053</td>\n",
       "      <td>42.516414</td>\n",
       "      <td>41.533860</td>\n",
       "      <td>40.985226</td>\n",
       "      <td>40.839635</td>\n",
       "      <td>52.835266</td>\n",
       "      <td>51.656780</td>\n",
       "      <td>52.400423</td>\n",
       "      <td>53.117620</td>\n",
       "    </tr>\n",
       "  </tbody>\n",
       "</table>\n",
       "</div>"
      ],
      "text/plain": [
       "      KNN2Boston  KNN4Boston  KNN8Boston  KNN12Boston  KNN2Diabetes  \\\n",
       "MAE     4.517589    4.340366    4.492762     4.645669     50.361991   \n",
       "RMSE   44.035158   39.389235   41.325336    45.118561   4342.084842   \n",
       "MAPE   21.053634   20.194596   21.404206    22.084053     42.516414   \n",
       "\n",
       "      KNN4Diabetes  KNN8Diabetes  KNN12Diabetes  KNN2Casas  KNN4Casas  \\\n",
       "MAE      48.004525     47.107466      46.469268   0.845560   0.809299   \n",
       "RMSE   3768.072115   3479.413744    3397.601009   1.242360   1.118587   \n",
       "MAPE     41.533860     40.985226      40.839635  52.835266  51.656780   \n",
       "\n",
       "      KNN8Casas  KNN12Casas  \n",
       "MAE    0.808708    0.814136  \n",
       "RMSE   1.098199    1.107052  \n",
       "MAPE  52.400423   53.117620  "
      ]
     },
     "execution_count": 12,
     "metadata": {},
     "output_type": "execute_result"
    }
   ],
   "source": [
    "#Se calculan las predicciones para los problemas planteados para los diferentes datasets\n",
    "y_pred = calculaPredicciones()\n",
    "\n",
    "#Se evaluan las metricas planteadas en el diccionario\n",
    "evaluation={}\n",
    "for nombre, exp in problemas.items():\n",
    "       evaluation[nombre] = evaluacion(exp[1].target, y_pred[nombre], metricas)\n",
    "\n",
    "#Se introducen las metricas en un dataframe y se imprime\n",
    "evaluacion_resultados=pd.DataFrame(evaluation)\n",
    "evaluacion_resultados"
   ]
  },
  {
   "cell_type": "markdown",
   "metadata": {},
   "source": [
    "##### b) Función de distancia:\n",
    "- Con 4 vecinos más cercanos con hiperparámetro distancia\n",
    "- Con 8 vecinos más cercanos con hiperparámetro distancia\n",
    "- Con 12 vecinos más cercanos con hiperparámetro distancia"
   ]
  },
  {
   "cell_type": "code",
   "execution_count": 13,
   "metadata": {},
   "outputs": [],
   "source": [
    "algoritmos = {\n",
    "  'KNN_N8': KNeighborsRegressor(n_neighbors = 8),\n",
    "  'KNN_N12': KNeighborsRegressor(n_neighbors = 12),\n",
    "  'KNN_N8_DST': KNeighborsRegressor(n_neighbors = 8, weights='distance'),\n",
    "  'KNN_N12_DST': KNeighborsRegressor(n_neighbors = 12, weights='distance')\n",
    "}"
   ]
  },
  {
   "cell_type": "code",
   "execution_count": 14,
   "metadata": {},
   "outputs": [],
   "source": [
    "problemas = {\n",
    "  'KNN8Boston': (algoritmos['KNN_N8'], dataset['Boston']),\n",
    "  'KNN12Boston': (algoritmos['KNN_N12'], dataset['Boston']),\n",
    "  'KNN8DstBoston': (algoritmos['KNN_N8_DST'], dataset['Boston']),\n",
    "  'KNN12DstBoston': (algoritmos['KNN_N12_DST'], dataset['Boston']),\n",
    "  'KNN8Diabetes': (algoritmos['KNN_N8'], dataset['Diabetes']),\n",
    "  'KNN12Diabetes': (algoritmos['KNN_N12'], dataset['Diabetes']),\n",
    "  'KNN8DstDiabetes': (algoritmos['KNN_N8_DST'], dataset['Diabetes']),\n",
    "  'KNN12DstDiabetes': (algoritmos['KNN_N12_DST'], dataset['Diabetes']),\n",
    "  'KNN8Casas': (algoritmos['KNN_N8'], dataset['Casas']),\n",
    "  'KNN12Casas': (algoritmos['KNN_N12'], dataset['Casas']),\n",
    "  'KNN8DstCasas': (algoritmos['KNN_N8_DST'], dataset['Casas']),\n",
    "  'KNN12DstCasas': (algoritmos['KNN_N12_DST'], dataset['Casas'])  \n",
    "}"
   ]
  },
  {
   "cell_type": "code",
   "execution_count": 15,
   "metadata": {},
   "outputs": [
    {
     "data": {
      "text/html": [
       "<div>\n",
       "<style scoped>\n",
       "    .dataframe tbody tr th:only-of-type {\n",
       "        vertical-align: middle;\n",
       "    }\n",
       "\n",
       "    .dataframe tbody tr th {\n",
       "        vertical-align: top;\n",
       "    }\n",
       "\n",
       "    .dataframe thead th {\n",
       "        text-align: right;\n",
       "    }\n",
       "</style>\n",
       "<table border=\"1\" class=\"dataframe\">\n",
       "  <thead>\n",
       "    <tr style=\"text-align: right;\">\n",
       "      <th></th>\n",
       "      <th>KNN8Boston</th>\n",
       "      <th>KNN12Boston</th>\n",
       "      <th>KNN8DstBoston</th>\n",
       "      <th>KNN12DstBoston</th>\n",
       "      <th>KNN8Diabetes</th>\n",
       "      <th>KNN12Diabetes</th>\n",
       "      <th>KNN8DstDiabetes</th>\n",
       "      <th>KNN12DstDiabetes</th>\n",
       "      <th>KNN8Casas</th>\n",
       "      <th>KNN12Casas</th>\n",
       "      <th>KNN8DstCasas</th>\n",
       "      <th>KNN12DstCasas</th>\n",
       "    </tr>\n",
       "  </thead>\n",
       "  <tbody>\n",
       "    <tr>\n",
       "      <th>MAE</th>\n",
       "      <td>4.492762</td>\n",
       "      <td>4.645669</td>\n",
       "      <td>4.181809</td>\n",
       "      <td>4.275792</td>\n",
       "      <td>47.107466</td>\n",
       "      <td>46.469268</td>\n",
       "      <td>46.820020</td>\n",
       "      <td>46.183790</td>\n",
       "      <td>0.808708</td>\n",
       "      <td>0.814136</td>\n",
       "      <td>0.792598</td>\n",
       "      <td>0.796668</td>\n",
       "    </tr>\n",
       "    <tr>\n",
       "      <th>RMSE</th>\n",
       "      <td>41.325336</td>\n",
       "      <td>45.118561</td>\n",
       "      <td>36.595270</td>\n",
       "      <td>38.363438</td>\n",
       "      <td>3479.413744</td>\n",
       "      <td>3397.601009</td>\n",
       "      <td>3463.571818</td>\n",
       "      <td>3379.104243</td>\n",
       "      <td>1.098199</td>\n",
       "      <td>1.107052</td>\n",
       "      <td>1.061013</td>\n",
       "      <td>1.065935</td>\n",
       "    </tr>\n",
       "    <tr>\n",
       "      <th>MAPE</th>\n",
       "      <td>21.404206</td>\n",
       "      <td>22.084053</td>\n",
       "      <td>19.871814</td>\n",
       "      <td>20.359751</td>\n",
       "      <td>40.985226</td>\n",
       "      <td>40.839635</td>\n",
       "      <td>40.699512</td>\n",
       "      <td>40.522115</td>\n",
       "      <td>52.400423</td>\n",
       "      <td>53.117620</td>\n",
       "      <td>51.285804</td>\n",
       "      <td>51.906625</td>\n",
       "    </tr>\n",
       "  </tbody>\n",
       "</table>\n",
       "</div>"
      ],
      "text/plain": [
       "      KNN8Boston  KNN12Boston  KNN8DstBoston  KNN12DstBoston  KNN8Diabetes  \\\n",
       "MAE     4.492762     4.645669       4.181809        4.275792     47.107466   \n",
       "RMSE   41.325336    45.118561      36.595270       38.363438   3479.413744   \n",
       "MAPE   21.404206    22.084053      19.871814       20.359751     40.985226   \n",
       "\n",
       "      KNN12Diabetes  KNN8DstDiabetes  KNN12DstDiabetes  KNN8Casas  KNN12Casas  \\\n",
       "MAE       46.469268        46.820020         46.183790   0.808708    0.814136   \n",
       "RMSE    3397.601009      3463.571818       3379.104243   1.098199    1.107052   \n",
       "MAPE      40.839635        40.699512         40.522115  52.400423   53.117620   \n",
       "\n",
       "      KNN8DstCasas  KNN12DstCasas  \n",
       "MAE       0.792598       0.796668  \n",
       "RMSE      1.061013       1.065935  \n",
       "MAPE     51.285804      51.906625  "
      ]
     },
     "execution_count": 15,
     "metadata": {},
     "output_type": "execute_result"
    }
   ],
   "source": [
    "#Se calculan las predicciones para los problemas planteados para los diferentes datasets\n",
    "y_pred = calculaPredicciones()\n",
    "\n",
    "#Se evaluan las metricas planteadas en el diccionario\n",
    "evaluation={}\n",
    "for nombre, exp in problemas.items():\n",
    "       evaluation[nombre] = evaluacion(exp[1].target, y_pred[nombre], metricas)\n",
    "\n",
    "#Se introducen las metricas en un dataframe y se imprime\n",
    "evaluacion_resultados=pd.DataFrame(evaluation)\n",
    "evaluacion_resultados"
   ]
  },
  {
   "cell_type": "markdown",
   "metadata": {},
   "source": [
    "##### c) con/sin normalización previa de atributos:\n",
    "- Con 12 vecinos más cercanos y datos sin normalizar\n",
    "- Con 12 vecinos más cercanos y datos normalizados"
   ]
  },
  {
   "cell_type": "code",
   "execution_count": 16,
   "metadata": {},
   "outputs": [],
   "source": [
    "#Se inicia el objeto a usar en la normalizacion\n",
    "normalizer = preprocessing.MinMaxScaler()"
   ]
  },
  {
   "cell_type": "code",
   "execution_count": 17,
   "metadata": {},
   "outputs": [],
   "source": [
    "#Cargamos las diferentes datasets que vamos a necesitar\n",
    "dataset = {\n",
    "    'Boston': datasets.load_boston(),\n",
    "    'BostonNorm': datasets.load_boston(),\n",
    "    'Diabetes': datasets.load_diabetes(),\n",
    "    'DiabetesNorm': datasets.load_diabetes(),\n",
    "    'Casas': datasets.fetch_california_housing(),\n",
    "    'CasasNorm': datasets.fetch_california_housing()\n",
    "}\n",
    "\n",
    "#Modificas los datos para normalizarlos en los datasets que hacen falta\n",
    "dataset['BostonNorm'].data = normalizer.fit_transform(dataset['BostonNorm'].data)\n",
    "dataset['DiabetesNorm'].data = normalizer.fit_transform(dataset['DiabetesNorm'].data)\n",
    "dataset['CasasNorm'].data = normalizer.fit_transform(dataset['CasasNorm'].data)"
   ]
  },
  {
   "cell_type": "code",
   "execution_count": 18,
   "metadata": {},
   "outputs": [],
   "source": [
    "algoritmos = {\n",
    "  'KNN_N12_DST': KNeighborsRegressor(n_neighbors = 12, weights='distance')\n",
    "}"
   ]
  },
  {
   "cell_type": "code",
   "execution_count": 19,
   "metadata": {},
   "outputs": [],
   "source": [
    "problemas = {\n",
    "  'KNN12DstBoston': (algoritmos['KNN_N12_DST'], dataset['Boston']),\n",
    "  'KNN12DstBostonNorm': (algoritmos['KNN_N12_DST'], dataset['BostonNorm']),\n",
    "  'KNN12DstDiabetes': (algoritmos['KNN_N12_DST'], dataset['Diabetes']),\n",
    "  'KNN12DstDiabetesNorm': (algoritmos['KNN_N12_DST'], dataset['DiabetesNorm']),\n",
    "  'KNN12DstCasas': (algoritmos['KNN_N12_DST'], dataset['Casas']),\n",
    "  'KNN12DstCasasNorm': (algoritmos['KNN_N12_DST'], dataset['CasasNorm'])  \n",
    "}"
   ]
  },
  {
   "cell_type": "code",
   "execution_count": 20,
   "metadata": {},
   "outputs": [
    {
     "data": {
      "text/html": [
       "<div>\n",
       "<style scoped>\n",
       "    .dataframe tbody tr th:only-of-type {\n",
       "        vertical-align: middle;\n",
       "    }\n",
       "\n",
       "    .dataframe tbody tr th {\n",
       "        vertical-align: top;\n",
       "    }\n",
       "\n",
       "    .dataframe thead th {\n",
       "        text-align: right;\n",
       "    }\n",
       "</style>\n",
       "<table border=\"1\" class=\"dataframe\">\n",
       "  <thead>\n",
       "    <tr style=\"text-align: right;\">\n",
       "      <th></th>\n",
       "      <th>KNN12DstBoston</th>\n",
       "      <th>KNN12DstBostonNorm</th>\n",
       "      <th>KNN12DstDiabetes</th>\n",
       "      <th>KNN12DstDiabetesNorm</th>\n",
       "      <th>KNN12DstCasas</th>\n",
       "      <th>KNN12DstCasasNorm</th>\n",
       "    </tr>\n",
       "  </thead>\n",
       "  <tbody>\n",
       "    <tr>\n",
       "      <th>MAE</th>\n",
       "      <td>4.275792</td>\n",
       "      <td>3.116698</td>\n",
       "      <td>46.183790</td>\n",
       "      <td>45.867621</td>\n",
       "      <td>0.796668</td>\n",
       "      <td>0.410073</td>\n",
       "    </tr>\n",
       "    <tr>\n",
       "      <th>RMSE</th>\n",
       "      <td>38.363438</td>\n",
       "      <td>23.484063</td>\n",
       "      <td>3379.104243</td>\n",
       "      <td>3330.345591</td>\n",
       "      <td>1.065935</td>\n",
       "      <td>0.370659</td>\n",
       "    </tr>\n",
       "    <tr>\n",
       "      <th>MAPE</th>\n",
       "      <td>20.359751</td>\n",
       "      <td>14.165072</td>\n",
       "      <td>40.522115</td>\n",
       "      <td>40.085910</td>\n",
       "      <td>51.906625</td>\n",
       "      <td>22.060938</td>\n",
       "    </tr>\n",
       "  </tbody>\n",
       "</table>\n",
       "</div>"
      ],
      "text/plain": [
       "      KNN12DstBoston  KNN12DstBostonNorm  KNN12DstDiabetes  \\\n",
       "MAE         4.275792            3.116698         46.183790   \n",
       "RMSE       38.363438           23.484063       3379.104243   \n",
       "MAPE       20.359751           14.165072         40.522115   \n",
       "\n",
       "      KNN12DstDiabetesNorm  KNN12DstCasas  KNN12DstCasasNorm  \n",
       "MAE              45.867621       0.796668           0.410073  \n",
       "RMSE           3330.345591       1.065935           0.370659  \n",
       "MAPE             40.085910      51.906625          22.060938  "
      ]
     },
     "execution_count": 20,
     "metadata": {},
     "output_type": "execute_result"
    }
   ],
   "source": [
    "#Se calculan las predicciones para los problemas planteados para los diferentes datasets\n",
    "y_pred = calculaPredicciones()\n",
    "\n",
    "#Se evaluan las metricas planteadas en el diccionario\n",
    "evaluation={}\n",
    "for nombre, exp in problemas.items():\n",
    "       evaluation[nombre] = evaluacion(exp[1].target, y_pred[nombre], metricas)\n",
    "\n",
    "#Se introducen las metricas en un dataframe y se imprime\n",
    "evaluacion_resultados=pd.DataFrame(evaluation)\n",
    "evaluacion_resultados"
   ]
  },
  {
   "cell_type": "markdown",
   "metadata": {},
   "source": [
    "### Ejercicio 5 (2 puntos)"
   ]
  },
  {
   "cell_type": "markdown",
   "metadata": {},
   "source": [
    "Estudie la métrica para clasificación denominada AUC de scikit-learn y cree un programa, con comentarios que aclaren el código, donde se compute diche métrica (junto con exactitud, precisión, recall y F1) usando los clasificadores LOGR y CART en validación cruzada leave-one-out. Muestre los resultados de forma comparativa para al menos tres datasets (los que se deseen)."
   ]
  },
  {
   "cell_type": "code",
   "execution_count": 21,
   "metadata": {},
   "outputs": [],
   "source": [
    "#Cargamoos las metricas que vamos a necesitar\n",
    "metricas = {\n",
    "    'Accuracy': metrics.accuracy_score,\n",
    "    'Precission': metrics.precision_score,\n",
    "    'Recall': metrics.precision_score,\n",
    "    'F1': metrics.f1_score,\n",
    "    'AUC': metrics.auc,\n",
    "}"
   ]
  },
  {
   "cell_type": "code",
   "execution_count": 22,
   "metadata": {},
   "outputs": [],
   "source": [
    "#Cargamos las diferentes datasets que vamos a necesitar\n",
    "dataset = {\n",
    "    'Iris': datasets.load_iris(),\n",
    "    'Diabetes': datasets.load_diabetes(),\n",
    "    'Wine': datasets.load_wine(),\n",
    "    #'Boston': datasets.load_boston(),\n",
    "}"
   ]
  },
  {
   "cell_type": "code",
   "execution_count": 23,
   "metadata": {},
   "outputs": [],
   "source": [
    "algoritmos = {\n",
    "    'RLOG': LogisticRegression(solver='sag', max_iter=1000, random_state=42, multi_class='ovr'),\n",
    "    'TREE': DecisionTreeClassifier(random_state=0)\n",
    "}"
   ]
  },
  {
   "cell_type": "code",
   "execution_count": 24,
   "metadata": {},
   "outputs": [],
   "source": [
    "problemas = {\n",
    "  'TREEIris': (algoritmos['TREE'], dataset['Iris']),\n",
    "  'RLOGIris': (algoritmos['RLOG'], dataset['Iris']),\n",
    "  'TREEDiabetes': (algoritmos['TREE'], dataset['Diabetes']),\n",
    "  'RLOGDiabetes': (algoritmos['RLOG'], dataset['Diabetes']),\n",
    "  'TREEWine': (algoritmos['TREE'], dataset['Wine']),\n",
    "  'RLOGWine': (algoritmos['RLOG'], dataset['Wine'])\n",
    "}"
   ]
  },
  {
   "cell_type": "code",
   "execution_count": 25,
   "metadata": {},
   "outputs": [],
   "source": [
    "#Se redefine la funcion para incluir el parametro average='weighted'\n",
    "#Tambien se añaden los parametros para estudiar la metrica AUC\n",
    "def evaluacion(y_true, y_pred, metricas):\n",
    "    result = {}\n",
    "    for nombre, funcion in metricas.items():\n",
    "        if(nombre == 'Accuracy'):\n",
    "            result[nombre] = funcion(y_true, y_pred)\n",
    "        elif(nombre == 'AUC'):\n",
    "            fpr, tpr, thresholds = metrics.roc_curve(y_true, y_pred, pos_label=2)\n",
    "            result[nombre] = metrics.auc(fpr, tpr)\n",
    "        else:\n",
    "            result[nombre] = funcion(y_true, y_pred,average='weighted')\n",
    "    return result"
   ]
  },
  {
   "cell_type": "code",
   "execution_count": 26,
   "metadata": {},
   "outputs": [
    {
     "data": {
      "text/html": [
       "<div>\n",
       "<style scoped>\n",
       "    .dataframe tbody tr th:only-of-type {\n",
       "        vertical-align: middle;\n",
       "    }\n",
       "\n",
       "    .dataframe tbody tr th {\n",
       "        vertical-align: top;\n",
       "    }\n",
       "\n",
       "    .dataframe thead th {\n",
       "        text-align: right;\n",
       "    }\n",
       "</style>\n",
       "<table border=\"1\" class=\"dataframe\">\n",
       "  <thead>\n",
       "    <tr style=\"text-align: right;\">\n",
       "      <th></th>\n",
       "      <th>TREEIris</th>\n",
       "      <th>RLOGIris</th>\n",
       "      <th>TREEDiabetes</th>\n",
       "      <th>RLOGDiabetes</th>\n",
       "      <th>TREEWine</th>\n",
       "      <th>RLOGWine</th>\n",
       "    </tr>\n",
       "  </thead>\n",
       "  <tbody>\n",
       "    <tr>\n",
       "      <th>Accuracy</th>\n",
       "      <td>0.946667</td>\n",
       "      <td>0.940000</td>\n",
       "      <td>0.006787</td>\n",
       "      <td>0.004525</td>\n",
       "      <td>0.882022</td>\n",
       "      <td>0.803371</td>\n",
       "    </tr>\n",
       "    <tr>\n",
       "      <th>Precission</th>\n",
       "      <td>0.946667</td>\n",
       "      <td>0.940988</td>\n",
       "      <td>0.005581</td>\n",
       "      <td>0.000138</td>\n",
       "      <td>0.883552</td>\n",
       "      <td>0.836663</td>\n",
       "    </tr>\n",
       "    <tr>\n",
       "      <th>Recall</th>\n",
       "      <td>0.946667</td>\n",
       "      <td>0.940988</td>\n",
       "      <td>0.005581</td>\n",
       "      <td>0.000138</td>\n",
       "      <td>0.883552</td>\n",
       "      <td>0.836663</td>\n",
       "    </tr>\n",
       "    <tr>\n",
       "      <th>F1</th>\n",
       "      <td>0.946667</td>\n",
       "      <td>0.939946</td>\n",
       "      <td>0.006083</td>\n",
       "      <td>0.000267</td>\n",
       "      <td>0.882437</td>\n",
       "      <td>0.792453</td>\n",
       "    </tr>\n",
       "    <tr>\n",
       "      <th>AUC</th>\n",
       "      <td>0.960000</td>\n",
       "      <td>0.955000</td>\n",
       "      <td>NaN</td>\n",
       "      <td>NaN</td>\n",
       "      <td>0.951122</td>\n",
       "      <td>0.799038</td>\n",
       "    </tr>\n",
       "  </tbody>\n",
       "</table>\n",
       "</div>"
      ],
      "text/plain": [
       "            TREEIris  RLOGIris  TREEDiabetes  RLOGDiabetes  TREEWine  RLOGWine\n",
       "Accuracy    0.946667  0.940000      0.006787      0.004525  0.882022  0.803371\n",
       "Precission  0.946667  0.940988      0.005581      0.000138  0.883552  0.836663\n",
       "Recall      0.946667  0.940988      0.005581      0.000138  0.883552  0.836663\n",
       "F1          0.946667  0.939946      0.006083      0.000267  0.882437  0.792453\n",
       "AUC         0.960000  0.955000           NaN           NaN  0.951122  0.799038"
      ]
     },
     "execution_count": 26,
     "metadata": {},
     "output_type": "execute_result"
    }
   ],
   "source": [
    "#Se calculan las predicciones para los problemas planteados para los diferentes datasets\n",
    "y_pred = calculaPredicciones()\n",
    "\n",
    "#Se evaluan las metricas planteadas en el diccionario\n",
    "evaluation={}\n",
    "for nombre, exp in problemas.items():\n",
    "       evaluation[nombre] = evaluacion(exp[1].target, y_pred[nombre], metricas)\n",
    "\n",
    "#Se introducen las metricas en un dataframe y se imprime\n",
    "evaluacion_resultados=pd.DataFrame(evaluation)\n",
    "evaluacion_resultados"
   ]
  }
 ],
 "metadata": {
  "kernelspec": {
   "display_name": "Python 3",
   "language": "python",
   "name": "python3"
  },
  "language_info": {
   "codemirror_mode": {
    "name": "ipython",
    "version": 3
   },
   "file_extension": ".py",
   "mimetype": "text/x-python",
   "name": "python",
   "nbconvert_exporter": "python",
   "pygments_lexer": "ipython3",
   "version": "3.7.6"
  }
 },
 "nbformat": 4,
 "nbformat_minor": 4
}
